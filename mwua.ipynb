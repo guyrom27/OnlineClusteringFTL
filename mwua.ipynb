{
 "cells": [
  {
   "cell_type": "code",
   "execution_count": null,
   "metadata": {},
   "outputs": [],
   "source": [
    "#Code is taken from https://github.com/j2kun/mwua\n",
    "#Based on https://jeremykun.com/2017/02/27/the-reasonable-effectiveness-of-the-multiplicative-weights-update-algorithm/\n",
    "\n",
    "\n",
    "import random\n",
    "\n",
    "\n",
    "# draw: [float] -> int\n",
    "# pick an index from the given list of floats proportionally\n",
    "# to the size of the entry (i.e. normalize to a probability\n",
    "# distribution and draw according to the probabilities).\n",
    "def draw(weights):\n",
    "    choice = random.uniform(0, sum(weights))\n",
    "    choiceIndex = 0\n",
    "\n",
    "    for weight in weights:\n",
    "        choice -= weight\n",
    "        if choice <= 0:\n",
    "            return choiceIndex\n",
    "\n",
    "        choiceIndex += 1\n",
    "\n",
    "\n",
    "# MWUA: the multiplicative weights update algorithm\n",
    "def MWUA(objects, observeOutcome, reward, learningRate, numRounds):\n",
    "    weights = [1] * len(objects)\n",
    "    cumulativeReward = 0\n",
    "\n",
    "    for t in range(numRounds):\n",
    "        chosenObjectIndex = draw(weights)\n",
    "        chosenObject = objects[chosenObjectIndex]\n",
    "\n",
    "        outcome = observeOutcome(t, weights, chosenObject)\n",
    "        thisRoundReward = reward(chosenObject, outcome)\n",
    "        cumulativeReward += thisRoundReward\n",
    "\n",
    "        for i in range(len(weights)):\n",
    "            weights[i] *= (1 + learningRate * reward(objects[i], outcome))\n",
    "\n",
    "    return weights"
   ]
  }
 ],
 "metadata": {
  "kernelspec": {
   "display_name": "Python 3",
   "language": "python",
   "name": "python3"
  },
  "language_info": {
   "codemirror_mode": {
    "name": "ipython",
    "version": 3
   },
   "file_extension": ".py",
   "mimetype": "text/x-python",
   "name": "python",
   "nbconvert_exporter": "python",
   "pygments_lexer": "ipython3",
   "version": "3.6.3"
  }
 },
 "nbformat": 4,
 "nbformat_minor": 2
}
